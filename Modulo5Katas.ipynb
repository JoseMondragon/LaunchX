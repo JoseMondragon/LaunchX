{
 "cells": [
  {
   "cell_type": "markdown",
   "metadata": {},
   "source": [
    "# Ejercicio 1 Distancia entre los planetas Tierra y Jupiter"
   ]
  },
  {
   "cell_type": "code",
   "execution_count": 8,
   "metadata": {},
   "outputs": [
    {
     "name": "stdout",
     "output_type": "stream",
     "text": [
      "La distancia en kilometros entre la tierra y jupiter es 628949330 km\n"
     ]
    }
   ],
   "source": [
    "tierra = 149597870\n",
    "jupiter = 778547200\n",
    "\n",
    "print(f'La distancia en kilometros entre la tierra y jupiter es {abs( tierra - jupiter )} km')"
   ]
  },
  {
   "cell_type": "markdown",
   "metadata": {},
   "source": [
    "## Distancia en millas"
   ]
  },
  {
   "cell_type": "code",
   "execution_count": 9,
   "metadata": {},
   "outputs": [
    {
     "name": "stdout",
     "output_type": "stream",
     "text": [
      "La distancia en millas entre la tierra y jupiter es 390577534 millas\n"
     ]
    }
   ],
   "source": [
    "print(f'La distancia en millas entre la tierra y jupiter es {round(abs( tierra - jupiter ) * 0.621)} millas')"
   ]
  },
  {
   "cell_type": "markdown",
   "metadata": {},
   "source": [
    "# Ejercicio 2 Distancia entre dos planetas ingresados por el usuario"
   ]
  },
  {
   "cell_type": "code",
   "execution_count": 10,
   "metadata": {},
   "outputs": [
    {
     "name": "stdout",
     "output_type": "stream",
     "text": [
      "Nombre del planeta1:\n",
      "Venus\n",
      "Distancia del planeta1 al sol:\n",
      "108200000\n",
      "Nombre del planeta2:\n",
      "Saturno\n",
      "Distancia del planeta2 al sol:\n",
      "1433500000\n",
      "La distancia en kilometros entre Venus y Saturno es 1325300000 km\n",
      "La distancia en millas entre Venus y Saturno es 823011300 millas\n"
     ]
    }
   ],
   "source": [
    "#Planeta\tDistancia al sol\n",
    "#Mercurio\t57900000\n",
    "#Venus\t108200000\n",
    "#Tierra\t149600000\n",
    "#Marte\t227900000\n",
    "#Júpiter\t778600000\n",
    "#Saturno\t1433500000\n",
    "#Urano\t2872500000\n",
    "#Neptuno\t4495100000\n",
    "\n",
    "print(\"Nombre del planeta1:\")\n",
    "planeta1_nombre = input()\n",
    "print(planeta1_nombre)\n",
    "print(\"Distancia del planeta1 al sol:\")\n",
    "planeta1_dist = int(input())\n",
    "print(planeta1_dist)\n",
    "\n",
    "print(\"Nombre del planeta2:\")\n",
    "planeta2_nombre = input()\n",
    "print(planeta2_nombre)\n",
    "print(\"Distancia del planeta2 al sol:\")\n",
    "planeta2_dist = int(input())\n",
    "print(planeta2_dist)\n",
    "\n",
    "print(f'La distancia en kilometros entre { planeta1_nombre } y { planeta2_nombre } es {abs( planeta1_dist - planeta2_dist )} km')\n",
    "print(f'La distancia en millas entre { planeta1_nombre } y { planeta2_nombre } es {round(abs( planeta1_dist - planeta2_dist ) * 0.621)} millas')"
   ]
  }
 ],
 "metadata": {
  "interpreter": {
   "hash": "6c868c1dfde43a9d202223ee1f4b29dfa14251cca3ec1aebbd6e23d9b64719d1"
  },
  "kernelspec": {
   "display_name": "Python 3.10.2 64-bit",
   "language": "python",
   "name": "python3"
  },
  "language_info": {
   "codemirror_mode": {
    "name": "ipython",
    "version": 3
   },
   "file_extension": ".py",
   "mimetype": "text/x-python",
   "name": "python",
   "nbconvert_exporter": "python",
   "pygments_lexer": "ipython3",
   "version": "3.10.2"
  },
  "orig_nbformat": 4
 },
 "nbformat": 4,
 "nbformat_minor": 2
}
