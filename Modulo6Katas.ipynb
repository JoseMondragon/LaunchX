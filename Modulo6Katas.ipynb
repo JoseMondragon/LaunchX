{
 "cells": [
  {
   "cell_type": "markdown",
   "metadata": {},
   "source": [
    "# Ejercicio 1 Lista de los planetas"
   ]
  },
  {
   "cell_type": "code",
   "execution_count": 18,
   "metadata": {},
   "outputs": [
    {
     "name": "stdout",
     "output_type": "stream",
     "text": [
      "Numero de plantas: 8\n",
      "Numero de plantas: 9\n",
      "ultimo planeta: Plutón\n"
     ]
    }
   ],
   "source": [
    "planetas = [\"Mercurio\", \"Venus\", \"Tierra\", \"Marte\", \"Jupiter\", \"Saturno\", \"Urano\", \"Neptuno\"]\n",
    "print(f\"Numero de plantas: { len(planetas) }\")\n",
    "planetas.append(\"Plutón\")\n",
    "print(f\"Numero de plantas: { len(planetas) }\")\n",
    "print(f\"ultimo planeta: { planetas[-1] }\")"
   ]
  },
  {
   "cell_type": "markdown",
   "metadata": {},
   "source": [
    "# Ejercicio 2 Planetas más cerca y mas lejos del sol de un planeta que el usuario ingresa"
   ]
  },
  {
   "cell_type": "code",
   "execution_count": 19,
   "metadata": {},
   "outputs": [
    {
     "name": "stdout",
     "output_type": "stream",
     "text": [
      "Planet selected number 3\n",
      "Planets closer to sun from Mars: ['Mercury', 'Venus', 'Earth']\n",
      "Planets farter to sun from Mars: ['Jupiter', 'Saturn', 'Neptune']\n"
     ]
    }
   ],
   "source": [
    "# Lista de planetas\n",
    "planets = ['Mercury', 'Venus', 'Earth', 'Mars', 'Jupiter', 'Saturn', 'Neptune']\n",
    "\n",
    "# Solicitamos el nombre de un planeta\n",
    "planet = input('Entry name of planet (i.e. Mars):')\n",
    "\n",
    "# Busca el planeta en la lista\n",
    "if( planet in planets):\n",
    "    print(f'Planet selected number { planets.index(planet) }')\n",
    "\n",
    "    # Busca el planeta en la lista\n",
    "    print(f'Planets closer to sun from { planet }: { planets[0: planets.index(planet)] }')\n",
    "\n",
    "    # Muestra los planetas más lejanos al sol\n",
    "    print(f'Planets farter to sun from { planet }: { planets[planets.index(planet) + 1:] }')\n",
    "else:\n",
    "    print('Rong name of planet verify caps')"
   ]
  }
 ],
 "metadata": {
  "interpreter": {
   "hash": "6c868c1dfde43a9d202223ee1f4b29dfa14251cca3ec1aebbd6e23d9b64719d1"
  },
  "kernelspec": {
   "display_name": "Python 3.10.2 64-bit",
   "language": "python",
   "name": "python3"
  },
  "language_info": {
   "codemirror_mode": {
    "name": "ipython",
    "version": 3
   },
   "file_extension": ".py",
   "mimetype": "text/x-python",
   "name": "python",
   "nbconvert_exporter": "python",
   "pygments_lexer": "ipython3",
   "version": "3.10.2"
  },
  "orig_nbformat": 4
 },
 "nbformat": 4,
 "nbformat_minor": 2
}
