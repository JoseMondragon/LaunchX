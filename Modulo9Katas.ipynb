{
 "cells": [
  {
   "cell_type": "markdown",
   "metadata": {},
   "source": [
    "# Ejercicio 1 Trabajar con argumentos en funciones"
   ]
  },
  {
   "cell_type": "code",
   "execution_count": 8,
   "metadata": {},
   "outputs": [
    {
     "name": "stdout",
     "output_type": "stream",
     "text": [
      "{'fuel1': 1, 'fuel2': 2, 'fuel3': 3, 'average': 2.0}\n"
     ]
    }
   ],
   "source": [
    "# Función para leer 3 tanques de combustible y muestre el promedio\n",
    "# funcion para promedio\n",
    "def average(*fuels):\n",
    "    out = sum(fuels)\n",
    "    return out / len(fuels)\n",
    "\n",
    "def read_fuel():\n",
    "    fuel1 = int(input('Enter fuel1:'))\n",
    "    fuel2 = int(input('Enter fuel1:'))\n",
    "    fuel3 = int(input('Enter fuel1:'))\n",
    "    out = {\n",
    "        'fuel1':fuel1,\n",
    "        'fuel2':fuel2,\n",
    "        'fuel3':fuel3\n",
    "    }\n",
    "    # calculo del promedio\n",
    "    out['average'] = average(fuel1, fuel2, fuel3)\n",
    "    return out\n",
    "print(read_fuel())"
   ]
  },
  {
   "cell_type": "markdown",
   "metadata": {},
   "source": [
    "# Ejercicio 2 Trabajar con argumentos de palabras clave en funciones"
   ]
  },
  {
   "cell_type": "code",
   "execution_count": 13,
   "metadata": {},
   "outputs": [
    {
     "name": "stdout",
     "output_type": "stream",
     "text": [
      "{'pre_launch_time': 14, 'flight_time': 51, 'destination': 'Moon', 'external_fuel': 200000, 'internal_fuel': 300000}\n",
      "{'mission_to': 'Moon', 'total_flight_time': 76, 'total_fuel': 500000}\n",
      "{'mission_to': 'Moon', 'total_flight_time': 76, 'total_fuel': 500000, 'main': 300000, 'external': 200000}\n"
     ]
    }
   ],
   "source": [
    "# Función con un informe preciso de la misión. \n",
    "# Considera hora de prelanzamiento, tiempo de vuelo, destino, tanque externo y tanque interno\n",
    "def report(pre_launch_time, flight_time, destination, external_fuel, internal_fuel):   \n",
    "    out = {\n",
    "        'pre_launch_time':pre_launch_time,\n",
    "        'flight_time':flight_time,\n",
    "        'destination':destination,\n",
    "        'external_fuel':external_fuel,\n",
    "        'internal_fuel':internal_fuel\n",
    "    }\n",
    "    return out\n",
    "print(report(14, 51, \"Moon\", 200000, 300000))\n",
    "\n",
    "# Escribe tu nueva función de reporte considerando lo anterior\n",
    "def report2(destination, *minutes, **fuel_reservoirs):\n",
    "    out = {\n",
    "        'mission_to':destination,\n",
    "        'total_flight_time':sum(minutes),\n",
    "        'total_fuel':sum(fuel_reservoirs.values())\n",
    "    }\n",
    "    return out\n",
    "\n",
    "print(report2(\"Moon\", 10, 15, 51, main=300000, external=200000))\n",
    "\n",
    "# Escribe tu nueva función\n",
    "def report3(destination, *minutes, **fuel_reservoirs):\n",
    "    out = {\n",
    "        'mission_to':destination,\n",
    "        'total_flight_time':sum(minutes),\n",
    "        'total_fuel':sum(fuel_reservoirs.values())\n",
    "    }\n",
    "    for tank_name, gallons in fuel_reservoirs.items():\n",
    "        out[tank_name] = gallons\n",
    "    return out\n",
    "\n",
    "print(report3(\"Moon\", 10, 15, 51, main=300000, external=200000))"
   ]
  }
 ],
 "metadata": {
  "interpreter": {
   "hash": "6c868c1dfde43a9d202223ee1f4b29dfa14251cca3ec1aebbd6e23d9b64719d1"
  },
  "kernelspec": {
   "display_name": "Python 3.10.2 64-bit",
   "language": "python",
   "name": "python3"
  },
  "language_info": {
   "codemirror_mode": {
    "name": "ipython",
    "version": 3
   },
   "file_extension": ".py",
   "mimetype": "text/x-python",
   "name": "python",
   "nbconvert_exporter": "python",
   "pygments_lexer": "ipython3",
   "version": "3.10.2"
  },
  "orig_nbformat": 4
 },
 "nbformat": 4,
 "nbformat_minor": 2
}
